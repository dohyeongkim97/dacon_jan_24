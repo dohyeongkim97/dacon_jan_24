{
 "cells": [
  {
   "cell_type": "markdown",
   "id": "51b06b6d",
   "metadata": {},
   "source": [
    "## pandas, numpy,  sklearn, seaborn, matplotlib, xgboost, optuna, pycaret, lgbm"
   ]
  },
  {
   "cell_type": "markdown",
   "id": "2f0ed561",
   "metadata": {},
   "source": [
    "## load packages"
   ]
  },
  {
   "cell_type": "code",
   "execution_count": null,
   "id": "0ed8c744",
   "metadata": {},
   "outputs": [],
   "source": [
    "import pandas as pd\n",
    "import numpy as np\n",
    "import sklearn\n",
    "import seaborn as sns\n",
    "import matplotlib as mpl\n",
    "import matplotlib.pyplot as plt\n",
    "\n",
    "from sklearn.preprocessing import OneHotEncoder\n",
    "import xgboost as xgb\n",
    "from xgboost import XGBClassifier, XGBRegressor\n",
    "from sklearn.ensemble import RandomForestClassifier\n",
    "import optuna\n",
    "import pycaret\n",
    "from pycaret import classification\n",
    "from sklearn.ensemble import ExtraTreesClassifier\n",
    "from sklearn.model_selection import train_test_split\n",
    "from sklearn.metrics import f1_score\n",
    "from sklearn.metrics import precision_recall_fscore_support\n",
    "from sklearn.model_selection import KFold, cross_val_score, StratifiedKFold\n",
    "from xgboost import XGBRegressor\n",
    "from lightgbm import LGBMRegressor\n",
    "from sklearn.ensemble import RandomForestRegressor\n",
    "from sklearn.ensemble import ExtraTreesRegressor\n",
    "from catboost import CatBoostRegressor\n",
    "\n",
    "import torch\n",
    "from torch import nn, optim\n",
    "from torch.utils.data import Dataset, DataLoader\n",
    "\n",
    "df = pd.read_csv(\"./train.csv\")\n",
    "test = pd.read_csv(\"./test.csv\")\n",
    "submission = pd.read_csv(\"./sample_submission.csv\")"
   ]
  },
  {
   "cell_type": "markdown",
   "id": "61782ca6",
   "metadata": {},
   "source": [
    "### macro_f1 set-up"
   ]
  },
  {
   "cell_type": "code",
   "execution_count": null,
   "id": "fd826f99",
   "metadata": {},
   "outputs": [],
   "source": [
    "def macro_f1(y_true, y_pred, labels=None, average='macro'):\n",
    "    precision, recall, f1, _ = precision_recall_fscore_support(y_true, y_pred, labels=labels, average=None)\n",
    "    \n",
    "    macro_precision = precision.mean()\n",
    "    macro_recall = recall.mean()\n",
    "    macro_f1 = f1.mean()\n",
    "    \n",
    "    return macro_f1"
   ]
  },
  {
   "cell_type": "markdown",
   "id": "ab6cbfba",
   "metadata": {},
   "source": [
    "### 근로기간 조정(정수형 변수로 변경)"
   ]
  },
  {
   "cell_type": "code",
   "execution_count": null,
   "id": "df69c419",
   "metadata": {},
   "outputs": [],
   "source": [
    "def unknowns(value):\n",
    "    if value=='Unknown':\n",
    "        return 1\n",
    "    else:\n",
    "        return 0\n",
    "    \n",
    "df['work_ukn'] = df['근로기간'].apply(unknowns)\n",
    "test['work_ukn'] = test['근로기간'].apply(unknowns)\n",
    "\n",
    "replace_set = {\n",
    "    '< 1 year' : 0,\n",
    "    '<1 year' : 0,\n",
    "    '1 year' : 1,\n",
    "    '1 years' : 1,\n",
    "    '2 years' : 2,\n",
    "    '3 years' : 3,\n",
    "    '4 years' : 4,\n",
    "    '5 years' : 5,\n",
    "    '6 years' : 6,\n",
    "    '7 years' : 7,\n",
    "    '8 years' : 8,\n",
    "    '9 years' : 9,\n",
    "    '10 years' : 10,\n",
    "    '10+ years' : 12,\n",
    "    '10+years' : 12,\n",
    "    '3' : 3,\n",
    "    'Unknown' : 0\n",
    "}\n",
    "df['근로기간'].replace(replace_set, inplace=True)\n",
    "test['근로기간'].replace(replace_set, inplace=True)"
   ]
  },
  {
   "cell_type": "markdown",
   "id": "532b9c3c",
   "metadata": {},
   "source": [
    "### Column Adjust(원금, 이자, 대출간 관계 조정)"
   ]
  },
  {
   "cell_type": "code",
   "execution_count": null,
   "id": "88388bfc",
   "metadata": {},
   "outputs": [],
   "source": [
    "# 원래 남이 쓴 코드\n",
    "# 결괏값에 영향을 미치는 key codes\n",
    "\n",
    "df['원금/대출'] = df['총상환원금']/df['대출금액']\n",
    "df['이자/대출'] = df['총상환이자']/df['대출금액']\n",
    "\n",
    "test['원금/대출'] = test['총상환원금']/test['대출금액']\n",
    "test['이자/대출'] = test['총상환이자']/test['대출금액']"
   ]
  },
  {
   "cell_type": "markdown",
   "id": "65e164ad",
   "metadata": {},
   "source": [
    "### Categorical Columns(대출 기간) Adjust"
   ]
  },
  {
   "cell_type": "code",
   "execution_count": null,
   "id": "e6c0050d",
   "metadata": {},
   "outputs": [],
   "source": [
    "for i in range(len(df)):\n",
    "    if df.loc[i, '대출기간'] == '36 months':\n",
    "        df.loc[i, '대출기간'] = 36\n",
    "    else:\n",
    "        df.loc[i, '대출기간'] = 60\n",
    "        \n",
    "for i in range(len(test)):\n",
    "    if test.loc[i, '대출기간'] == '36 months':\n",
    "        test.loc[i, '대출기간'] = 36\n",
    "    else:\n",
    "        test.loc[i, '대출기간'] = 60"
   ]
  },
  {
   "cell_type": "markdown",
   "id": "7fcf7880",
   "metadata": {},
   "source": [
    "### One Hot Encoding - Categorical Feature Adjust"
   ]
  },
  {
   "cell_type": "code",
   "execution_count": null,
   "id": "48401c81",
   "metadata": {},
   "outputs": [],
   "source": [
    "from sklearn.preprocessing import OneHotEncoder\n",
    "ohe = OneHotEncoder(sparse_output=False, handle_unknown='ignore')\n",
    "encoded = ohe.fit_transform(df[['주택소유상태', '대출목적']])\n",
    "encoded = pd.DataFrame(encoded, columns = ohe.get_feature_names_out())\n",
    "\n",
    "df.drop(columns = ['주택소유상태', '대출목적'], inplace=True)\n",
    "\n",
    "df = pd.concat([df, encoded], axis=1)\n",
    "\n",
    "test_encoded = ohe.transform(test[['주택소유상태', '대출목적']])\n",
    "test_encoded = pd.DataFrame(test_encoded, columns=ohe.get_feature_names_out())\n",
    "test.drop(columns = ['주택소유상태', '대출목적'], inplace=True)\n",
    "test = pd.concat([test, test_encoded], axis=1)"
   ]
  },
  {
   "cell_type": "markdown",
   "id": "38c43e30",
   "metadata": {},
   "source": [
    "### feature scaling(MinMaxScaler)"
   ]
  },
  {
   "cell_type": "code",
   "execution_count": null,
   "id": "11e55b69",
   "metadata": {},
   "outputs": [],
   "source": [
    "from sklearn.preprocessing import MinMaxScaler\n",
    "mms = MinMaxScaler()\n",
    "cols = df.columns[1:12]\n",
    "df[cols] = mms.fit_transform(df[cols])\n",
    "test[cols] = mms.transform(test[cols])"
   ]
  },
  {
   "cell_type": "markdown",
   "id": "fd956a82",
   "metadata": {},
   "source": [
    "### target feature adjust. ordinal scaling"
   ]
  },
  {
   "cell_type": "code",
   "execution_count": null,
   "id": "66767eaf",
   "metadata": {},
   "outputs": [],
   "source": [
    "classes = {\n",
    "    'A': 6,\n",
    "    'B': 5,\n",
    "    'C': 4,\n",
    "    'D': 3,\n",
    "    'E': 2,\n",
    "    'F': 1,\n",
    "    'G': 0\n",
    "}\n",
    "\n",
    "target.replace(classes, inplace=True)"
   ]
  },
  {
   "cell_type": "code",
   "execution_count": null,
   "id": "822360cc",
   "metadata": {},
   "outputs": [],
   "source": [
    "train_id = df['ID']\n",
    "test_id = test['ID']\n",
    "\n",
    "df.drop(columns = 'ID', inplace=True)\n",
    "test.drop(columns = 'ID', inplace=True)"
   ]
  },
  {
   "cell_type": "markdown",
   "id": "641214e3",
   "metadata": {},
   "source": [
    "### train test split"
   ]
  },
  {
   "cell_type": "code",
   "execution_count": null,
   "id": "a9496bdb",
   "metadata": {},
   "outputs": [],
   "source": [
    "x_train, x_test, y_train, y_test = train_test_split(df, target)"
   ]
  },
  {
   "cell_type": "markdown",
   "id": "3da7e869",
   "metadata": {},
   "source": [
    "### pycaret, model selection"
   ]
  },
  {
   "cell_type": "code",
   "execution_count": null,
   "id": "54c0f9cb",
   "metadata": {},
   "outputs": [],
   "source": [
    "from pycaret.classification import *\n",
    "exp1 = setup(data=df, target=target)\n",
    "compare_models()"
   ]
  },
  {
   "cell_type": "markdown",
   "id": "e4e19c09",
   "metadata": {},
   "source": [
    "### lgbm classifier hyper-parameter setting py optuna and stratified KFold"
   ]
  },
  {
   "cell_type": "code",
   "execution_count": null,
   "id": "42d96ad0",
   "metadata": {},
   "outputs": [],
   "source": [
    "def objective_lgbm(trial):\n",
    "    learning_rate = trial.suggest_categorical('learning_rate', [0.01, 0.015, 0.1, 0.15, 0.2])\n",
    "    num_leaves = trial.suggest_categorical('num_leaves', [20, 50, 100, 150])\n",
    "    n_estimators = trial.suggest_categorical('n_estimators', [50, 100, 200, 300])\n",
    "    max_depth = trial.suggest_categorical('max_depth', [7, 10, 15, 50, 200, 500])\n",
    "    colsample_bytree = trial.suggest_categorical('colsample_bytree', [0.8, 0.9, 1.0])\n",
    "#     eval_metrics = trial.suggest_categorical('eval_metrics', ['error'])\n",
    "#     n_estimators = trial.suggest_categorical('n_estimators', [50, 100, 200, 300, 500])\n",
    "    \n",
    "    \n",
    "    kf = StratifiedKFold(n_splits=5, shuffle=True, random_state=42)\n",
    "    scores = []\n",
    "    \n",
    "    for train_index, test_index in kf.split(x_train, y_train):\n",
    "        model = LGBMClassifier(learning_rate = learning_rate,\n",
    "                               num_leaves = num_leaves,\n",
    "                               n_estimators = n_estimators,\n",
    "                               max_depth = max_depth,\n",
    "                               colsample_bytree = colsample_bytree,\n",
    "                               verbose=-1\n",
    "                              )\n",
    "        model.fit(x_train, y_train)\n",
    "        preds = model.predict(x_test)\n",
    "        score = macro_f1(y_test, preds)\n",
    "        scores.append(score)\n",
    "\n",
    "    mean_score = sum(scores) / len(scores)\n",
    "    return mean_score\n",
    "\n",
    "study_lgbm = optuna.create_study(direction='maximize')\n",
    "study_lgbm.optimize(objective_lgbm, n_trials=100)"
   ]
  },
  {
   "cell_type": "markdown",
   "id": "793ea5c6",
   "metadata": {},
   "source": [
    "### xgb classifier"
   ]
  },
  {
   "cell_type": "code",
   "execution_count": null,
   "id": "d003184f",
   "metadata": {},
   "outputs": [],
   "source": [
    "def objective_xgb(trial):\n",
    "    learning_rate = trial.suggest_categorical('learning_rate', [0.01, 0.015, 0.1, 0.15, 0.2])\n",
    "    min_child_weight = trial.suggest_categorical('min_child_weight', [0, 1, 2, 3])\n",
    "    max_depth = trial.suggest_categorical('max_depth', [7, 10, 15, 50, 200, 500])\n",
    "    objective = trial.suggest_categorical('objective', ['multi:softmax'])\n",
    "    num_class = trial.suggest_categorical('num_class', [7])\n",
    "#     eval_metrics = trial.suggest_categorical('eval_metrics', ['error'])\n",
    "#     n_estimators = trial.suggest_categorical('n_estimators', [50, 100, 200, 300, 500])\n",
    "    \n",
    "    kf = StratifiedKFold(n_splits=5, shuffle=True, random_state=42)\n",
    "    scores = []\n",
    "    for train_index, test_index in kf.split(x_train, y_train):\n",
    "        model = XGBClassifier(learning_rate = learning_rate, \n",
    "                              max_depth=max_depth, \n",
    "                              min_child_weight= min_child_weight, \n",
    "                              objective= objective,\n",
    "                              num_class= num_class)\n",
    "\n",
    "        model.fit(x_train, y_train)\n",
    "        preds = model.predict(x_test)\n",
    "        score = macro_f1(y_test, preds)\n",
    "        scores.append(score)\n",
    "        \n",
    "    mean_score = sum(scores)/len(scores)\n",
    "    \n",
    "    return mean_score'\n",
    "\n",
    "study_xgb = optuna.create_study(direction='maximize')\n",
    "study_xgb.optimize(objective_xgb, n_trials=100)"
   ]
  },
  {
   "cell_type": "code",
   "execution_count": null,
   "id": "ebe955c7",
   "metadata": {},
   "outputs": [],
   "source": [
    "lgbm_clf = LGBMClassifier(learning_rate = 0.1, num_leaves = 140, n_estimators = 350, max_depth=30)"
   ]
  },
  {
   "cell_type": "code",
   "execution_count": null,
   "id": "f665f4fe",
   "metadata": {},
   "outputs": [],
   "source": [
    "xgb_clf = XGBClassifier(learning_rate = 0.2, min_child_weight=0, max_depth=500, objective='multi:softmax', num_class=7)"
   ]
  },
  {
   "cell_type": "code",
   "execution_count": null,
   "id": "928e821c",
   "metadata": {},
   "outputs": [],
   "source": [
    "lgbm_clf.fit(x_train, y_train)"
   ]
  },
  {
   "cell_type": "code",
   "execution_count": null,
   "id": "17bf1ad9",
   "metadata": {},
   "outputs": [],
   "source": [
    "xgb_clf.fit(x_train, y_train)"
   ]
  },
  {
   "cell_type": "code",
   "execution_count": null,
   "id": "4c6e9805",
   "metadata": {},
   "outputs": [],
   "source": [
    "lgbm_clf.fit(x_train, y_train)\n",
    "preds_lgbm = lgbm_clf.predict(x_test)\n",
    "pred_proba_lgbm = lgbm_clf.predict_proba(x_test)\n",
    "pred_proba_lgbm = pd.DataFrame(pred_proba_lgbm)"
   ]
  },
  {
   "cell_type": "code",
   "execution_count": null,
   "id": "a360dff2",
   "metadata": {},
   "outputs": [],
   "source": [
    "xgb_clf.fit(x_train, y_train)\n",
    "preds_xgb = xgb_clf.predict(x_test)\n",
    "pred_proba_xgb = xgb_clf.predict_proba(x_test)\n",
    "pred_proba_xgb = pd.DataFrame(pred_proba_xgb)"
   ]
  },
  {
   "cell_type": "markdown",
   "id": "70dc5cd6",
   "metadata": {},
   "source": [
    "### 결괏값 미세조정"
   ]
  },
  {
   "cell_type": "code",
   "execution_count": null,
   "id": "3b304f29",
   "metadata": {},
   "outputs": [],
   "source": [
    "predicted_test = copy.deepcopy(preds_xgb)\n",
    "for i in range(len(preds_xgb)):\n",
    "    if preds_xgb[i] != preds_lgbm[i]:\n",
    "        if pred_proba_xgb.loc[i, pred_proba_xgb.loc[i, :].idxmax()] < pred_proba_lgbm.loc[i, pred_proba_lgbm.loc[i, :].idxmax()]-0.357:\n",
    "            predicted_test[i] = preds_lgbm[i]"
   ]
  },
  {
   "cell_type": "markdown",
   "id": "1c4754e5",
   "metadata": {},
   "source": [
    "### ensemble - voting classifier 사용(제출되지는 않음)"
   ]
  },
  {
   "cell_type": "code",
   "execution_count": null,
   "id": "a4823bab",
   "metadata": {},
   "outputs": [],
   "source": [
    "from sklearn.ensemble import VotingClassifier\n",
    "vot_clf = VotingClassifier(estimators = [('lgbm', lgbm_clf), ('xgb', xgb_clf)], voting='soft')\n",
    "vot_clf.fit(x_train, y_train)"
   ]
  },
  {
   "cell_type": "code",
   "execution_count": null,
   "id": "52fc7e19",
   "metadata": {},
   "outputs": [],
   "source": [
    "preds_vote = vot_clf.predict(x_test)\n",
    "macro_f1(preds_vote, y_test)"
   ]
  },
  {
   "cell_type": "code",
   "execution_count": null,
   "id": "33c21f47",
   "metadata": {},
   "outputs": [],
   "source": [
    "xgb_clf.fit(df, target)\n",
    "lgbm_clf.fit(df, target)\n",
    "\n",
    "predicted_xgb = xgb_clf.predict(test)\n",
    "predicted_lgbm = lgbm_clf.predict(test)\n",
    "\n",
    "predict_proba_xgb = pd.DataFrame(xgb_clf.predict_proba(test))\n",
    "predict_proba_lgbm = pd.DataFrame(lgbm_clf.predict_proba(test))"
   ]
  },
  {
   "cell_type": "code",
   "execution_count": null,
   "id": "13d86a65",
   "metadata": {},
   "outputs": [],
   "source": [
    "predicted_submission = copy.deepcopy(predicted_xgb)\n",
    "for i in range(len(preds_xgb)):\n",
    "    if predicted_xgb[i] != predicted_lgbm[i]:\n",
    "        if predict_proba_xgb.loc[i, predict_proba_xgb.loc[i, :].idxmax()] < predict_proba_lgbm.loc[i, predict_proba_lgbm.loc[i, :].idxmax()]-0.517:\n",
    "            predicted_submission[i] = preds_lgbm[i]"
   ]
  },
  {
   "cell_type": "code",
   "execution_count": null,
   "id": "0a50b213",
   "metadata": {},
   "outputs": [],
   "source": [
    "submission = pd.read_csv(\"sample_submission.csv\")\n",
    "\n",
    "submission['대출등급'] = predicted_submission\n",
    "\n",
    "reversed_classes = {v: k for k, v in classes.items()}\n",
    "submission['대출등급'].replace(reversed_classes, inplace=True)"
   ]
  },
  {
   "cell_type": "code",
   "execution_count": null,
   "id": "ab5bb997",
   "metadata": {},
   "outputs": [],
   "source": [
    "submission = submission.set_index('ID')"
   ]
  },
  {
   "cell_type": "code",
   "execution_count": null,
   "id": "6fff9b28",
   "metadata": {},
   "outputs": [],
   "source": [
    "submission.to_csv(\"submission_file_name.csv\")"
   ]
  }
 ],
 "metadata": {
  "kernelspec": {
   "display_name": "Python 3 (ipykernel)",
   "language": "python",
   "name": "python3"
  },
  "language_info": {
   "codemirror_mode": {
    "name": "ipython",
    "version": 3
   },
   "file_extension": ".py",
   "mimetype": "text/x-python",
   "name": "python",
   "nbconvert_exporter": "python",
   "pygments_lexer": "ipython3",
   "version": "3.11.4"
  }
 },
 "nbformat": 4,
 "nbformat_minor": 5
}
